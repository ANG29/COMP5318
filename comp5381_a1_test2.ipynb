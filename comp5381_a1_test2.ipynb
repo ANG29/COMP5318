{
  "nbformat": 4,
  "nbformat_minor": 0,
  "metadata": {
    "colab": {
      "name": "comp5381_a1_test2.ipynb",
      "provenance": [],
      "authorship_tag": "ABX9TyM3rJASDK+iR8hUigOGb20u",
      "include_colab_link": true
    },
    "kernelspec": {
      "name": "python3",
      "display_name": "Python 3"
    },
    "language_info": {
      "name": "python"
    }
  },
  "cells": [
    {
      "cell_type": "markdown",
      "metadata": {
        "id": "view-in-github",
        "colab_type": "text"
      },
      "source": [
        "<a href=\"https://colab.research.google.com/github/ANG29/COMP5318/blob/main/comp5381_a1_test2.ipynb\" target=\"_parent\"><img src=\"https://colab.research.google.com/assets/colab-badge.svg\" alt=\"Open In Colab\"/></a>"
      ]
    },
    {
      "cell_type": "code",
      "execution_count": 1,
      "metadata": {
        "colab": {
          "base_uri": "https://localhost:8080/"
        },
        "id": "lqZrUiml24dT",
        "outputId": "a2ad87cb-ab47-46c8-bed4-281541cd3f6f"
      },
      "outputs": [
        {
          "output_type": "stream",
          "name": "stdout",
          "text": [
            "Mounted at /content/drive\n"
          ]
        }
      ],
      "source": [
        "from google.colab import drive\n",
        "drive.mount('/content/drive')"
      ]
    },
    {
      "cell_type": "code",
      "source": [
        "import scipy.io\n",
        "import numpy as np "
      ],
      "metadata": {
        "id": "4EgtFB2g3PXw"
      },
      "execution_count": 2,
      "outputs": []
    },
    {
      "cell_type": "code",
      "source": [
        "file_by_merge = \"/content/drive/MyDrive/COMP5318/emnist-bymerge.mat\""
      ],
      "metadata": {
        "id": "IxUhfroF3PqN"
      },
      "execution_count": 3,
      "outputs": []
    },
    {
      "cell_type": "code",
      "source": [
        "mat_data_by_merge = scipy.io.loadmat(file_by_merge, mdict=None, appendmat=True)\n",
        "data_train_by_merge = mat_data_by_merge[\"dataset\"][0][0][0][0][0][0]"
      ],
      "metadata": {
        "id": "cHEo10L-3SM_"
      },
      "execution_count": 4,
      "outputs": []
    },
    {
      "cell_type": "code",
      "source": [
        "data_train_by_merge"
      ],
      "metadata": {
        "colab": {
          "base_uri": "https://localhost:8080/"
        },
        "id": "yHRqvb1V3Y-3",
        "outputId": "020c6e5f-122f-4ac9-8626-8a0e51acfddc"
      },
      "execution_count": 5,
      "outputs": [
        {
          "output_type": "execute_result",
          "data": {
            "text/plain": [
              "array([[0, 0, 0, ..., 0, 0, 0],\n",
              "       [0, 0, 0, ..., 0, 0, 0],\n",
              "       [0, 0, 0, ..., 0, 0, 0],\n",
              "       ...,\n",
              "       [0, 0, 0, ..., 0, 0, 0],\n",
              "       [0, 0, 0, ..., 0, 0, 0],\n",
              "       [0, 0, 0, ..., 0, 0, 0]], dtype=uint8)"
            ]
          },
          "metadata": {},
          "execution_count": 5
        }
      ]
    },
    {
      "cell_type": "code",
      "source": [
        "label_train_by_merge = mat_data_by_merge[\"dataset\"][0][0][0][0][0][1]\n",
        "label_train_by_merge"
      ],
      "metadata": {
        "colab": {
          "base_uri": "https://localhost:8080/"
        },
        "id": "7na1bPDJ3e1t",
        "outputId": "c11994d6-94fe-4928-ef90-35b258e27c47"
      },
      "execution_count": 6,
      "outputs": [
        {
          "output_type": "execute_result",
          "data": {
            "text/plain": [
              "array([[24],\n",
              "       [36],\n",
              "       [ 5],\n",
              "       ...,\n",
              "       [ 9],\n",
              "       [36],\n",
              "       [ 1]], dtype=uint8)"
            ]
          },
          "metadata": {},
          "execution_count": 6
        }
      ]
    },
    {
      "cell_type": "code",
      "source": [
        "data_test_by_merge = mat_data_by_merge[\"dataset\"][0][0][1][0][0][0]\n",
        "label_test_by_merge = mat_data_by_merge[\"dataset\"][0][0][1][0][0][1]\n",
        "mapping = mat_data_by_merge[\"dataset\"][0][0][2]"
      ],
      "metadata": {
        "id": "OVlgRIOQ3jaf"
      },
      "execution_count": 59,
      "outputs": []
    },
    {
      "cell_type": "code",
      "source": [
        "label_test_by_merge"
      ],
      "metadata": {
        "colab": {
          "base_uri": "https://localhost:8080/"
        },
        "id": "91zkepgb3nP6",
        "outputId": "3a81b9cc-7937-4a98-c875-99ba6acda21e"
      },
      "execution_count": 60,
      "outputs": [
        {
          "output_type": "execute_result",
          "data": {
            "text/plain": [
              "array([[24],\n",
              "       [22],\n",
              "       [28],\n",
              "       ...,\n",
              "       [ 3],\n",
              "       [ 3],\n",
              "       [ 7]], dtype=uint8)"
            ]
          },
          "metadata": {},
          "execution_count": 60
        }
      ]
    },
    {
      "cell_type": "markdown",
      "source": [
        "## ***开始卷***"
      ],
      "metadata": {
        "id": "UyzDQayc3sj0"
      }
    },
    {
      "cell_type": "code",
      "source": [
        "from __future__ import print_function\n",
        "import torch\n",
        "import torch.nn as nn\n",
        "import torch.nn.functional as F\n",
        "import torchvision\n",
        "import torchvision.transforms as transforms\n",
        "import torch.utils.data as Data"
      ],
      "metadata": {
        "id": "vj44zRZ13uvH"
      },
      "execution_count": 54,
      "outputs": []
    },
    {
      "cell_type": "code",
      "source": [
        "test = data_train_by_merge[0].reshape(28,28)\n",
        "\n",
        "\n",
        "test"
      ],
      "metadata": {
        "id": "Q-zzHN0A3vcp"
      },
      "execution_count": null,
      "outputs": []
    },
    {
      "cell_type": "code",
      "source": [
        "import matplotlib.pyplot as plt\n",
        "from PIL import Image\n",
        "plt.figure(figsize = (6,6))\n",
        "plt.imshow(test, cmap = plt.cm.gray)"
      ],
      "metadata": {
        "colab": {
          "base_uri": "https://localhost:8080/",
          "height": 391
        },
        "id": "kS9wlsQ54B3j",
        "outputId": "8dee265f-7e74-49bf-a481-63772325f0df"
      },
      "execution_count": 20,
      "outputs": [
        {
          "output_type": "execute_result",
          "data": {
            "text/plain": [
              "<matplotlib.image.AxesImage at 0x7faeb7cb2a50>"
            ]
          },
          "metadata": {},
          "execution_count": 20
        },
        {
          "output_type": "display_data",
          "data": {
            "text/plain": [
              "<Figure size 432x432 with 1 Axes>"
            ],
            "image/png": "[encoded data removed]"
          },
          "metadata": {
            "needs_background": "light"
          }
        }
      ]
    },
    {
      "cell_type": "code",
      "source": [
        "import numpy as np\n",
        "pic_list = []\n",
        "for pic in data_train_by_merge:\n",
        "  new_pic = pic.reshape(28,28)\n",
        "  pic_list.append(new_pic)\n",
        "\n",
        "data_train_by_merge_28 = np.array(pic_list)"
      ],
      "metadata": {
        "id": "Kn3NE4JF5MTu"
      },
      "execution_count": 45,
      "outputs": []
    },
    {
      "cell_type": "code",
      "source": [
        "data_train_by_merge_28.dtype"
      ],
      "metadata": {
        "colab": {
          "base_uri": "https://localhost:8080/"
        },
        "id": "g-iXtzKc_N0R",
        "outputId": "7de87a27-9c86-4cad-e4d4-247790a62b5c"
      },
      "execution_count": 50,
      "outputs": [
        {
          "output_type": "execute_result",
          "data": {
            "text/plain": [
              "dtype('uint8')"
            ]
          },
          "metadata": {},
          "execution_count": 50
        }
      ]
    },
    {
      "cell_type": "code",
      "source": [
        "train_data = torch.from_numpy(data_train_by_merge_28.astype(np.float32))\n",
        "train_label = torch.from_numpy(label_train_by_merge.astype(np.int64))\n",
        "train_data.shape"
      ],
      "metadata": {
        "colab": {
          "base_uri": "https://localhost:8080/"
        },
        "id": "ytOXc2Nr_SV5",
        "outputId": "d3e0100b-bd9e-4bf1-af5a-a4c53a6ad7fb"
      },
      "execution_count": 61,
      "outputs": [
        {
          "output_type": "execute_result",
          "data": {
            "text/plain": [
              "torch.Size([697932, 28, 28])"
            ]
          },
          "metadata": {},
          "execution_count": 61
        }
      ]
    },
    {
      "cell_type": "code",
      "source": [
        "train_label.shape"
      ],
      "metadata": {
        "colab": {
          "base_uri": "https://localhost:8080/"
        },
        "id": "Sa-fGj_oC9mC",
        "outputId": "a6125ecb-a43b-44d3-d48b-f9e344f41e96"
      },
      "execution_count": 62,
      "outputs": [
        {
          "output_type": "execute_result",
          "data": {
            "text/plain": [
              "torch.Size([697932, 1])"
            ]
          },
          "metadata": {},
          "execution_count": 62
        }
      ]
    },
    {
      "cell_type": "code",
      "source": [
        "train_data_all = Data.TensorDataset(train_data,train_label)"
      ],
      "metadata": {
        "id": "YBLT6J1KDBQq"
      },
      "execution_count": 63,
      "outputs": []
    },
    {
      "cell_type": "code",
      "source": [
        "train_loader = Data.DataLoader(\n",
        "    dataset=train_data_all,\n",
        "    batch_size=4,\n",
        "    shuffle = True,\n",
        "    num_workers = 1,\n",
        ")"
      ],
      "metadata": {
        "id": "OtBJru1RDltn"
      },
      "execution_count": 64,
      "outputs": []
    },
    {
      "cell_type": "code",
      "source": [
        ""
      ],
      "metadata": {
        "id": "ytfsKiSDEUjv"
      },
      "execution_count": null,
      "outputs": []
    }
  ]
}