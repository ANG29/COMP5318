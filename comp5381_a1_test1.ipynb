{
  "nbformat": 4,
  "nbformat_minor": 0,
  "metadata": {
    "colab": {
      "name": "comp5381_a1_test1.ipynb",
      "provenance": [],
      "authorship_tag": "ABX9TyPwWgEYqZRkmuMURRnqd6IP",
      "include_colab_link": true
    },
    "kernelspec": {
      "name": "python3",
      "display_name": "Python 3"
    },
    "language_info": {
      "name": "python"
    }
  },
  "cells": [
    {
      "cell_type": "markdown",
      "metadata": {
        "id": "view-in-github",
        "colab_type": "text"
      },
      "source": [
        "<a href=\"https://colab.research.google.com/github/ANG29/COMP5318/blob/main/comp5381_a1_test1.ipynb\" target=\"_parent\"><img src=\"https://colab.research.google.com/assets/colab-badge.svg\" alt=\"Open In Colab\"/></a>"
      ]
    },
    {
      "cell_type": "code",
      "execution_count": 93,
      "metadata": {
        "colab": {
          "base_uri": "https://localhost:8080/"
        },
        "id": "6n02-4mnleCw",
        "outputId": "c75aab34-89d3-4aa5-932c-4920070c76cf"
      },
      "outputs": [
        {
          "output_type": "stream",
          "name": "stdout",
          "text": [
            "Drive already mounted at /content/drive; to attempt to forcibly remount, call drive.mount(\"/content/drive\", force_remount=True).\n"
          ]
        }
      ],
      "source": [
        "from google.colab import drive\n",
        "drive.mount('/content/drive')"
      ]
    },
    {
      "cell_type": "code",
      "source": [
        "import scipy.io\n",
        "import numpy as np "
      ],
      "metadata": {
        "id": "LaaVpNzalshK"
      },
      "execution_count": null,
      "outputs": []
    },
    {
      "cell_type": "code",
      "source": [
        "file_balanced = \"/content/drive/MyDrive/COMP5318/emnist-balanced.mat\"\n",
        "file_by_class = \"/content/drive/MyDrive/COMP5318/emnist-byclass.mat\"\n",
        "file_by_merge = \"/content/drive/MyDrive/COMP5318/emnist-bymerge.mat\""
      ],
      "metadata": {
        "id": "yADHm23tmgxl"
      },
      "execution_count": null,
      "outputs": []
    },
    {
      "cell_type": "code",
      "source": [
        "scipy.io.loadmat(file_balanced, mdict=None, appendmat=True)"
      ],
      "metadata": {
        "colab": {
          "base_uri": "https://localhost:8080/"
        },
        "id": "bLuIU_24mzqn",
        "outputId": "1def1ccd-bfa5-4ec4-8a62-48518523c310"
      },
      "execution_count": null,
      "outputs": [
        {
          "output_type": "execute_result",
          "data": {
            "text/plain": [
              "{'__globals__': [],\n",
              " '__header__': b'MATLAB 5.0 MAT-file, Platform: PCWIN64, Created on: Tue Dec 20 07:38:25 2016',\n",
              " '__version__': '1.0',\n",
              " 'dataset': array([[(array([[(array([[0, 0, 0, ..., 0, 0, 0],\n",
              "                        [0, 0, 0, ..., 0, 0, 0],\n",
              "                        [0, 0, 0, ..., 0, 0, 0],\n",
              "                        ...,\n",
              "                        [0, 0, 0, ..., 0, 0, 0],\n",
              "                        [0, 0, 0, ..., 0, 0, 0],\n",
              "                        [0, 0, 0, ..., 0, 0, 0]], dtype=uint8), array([[45],\n",
              "                        [36],\n",
              "                        [43],\n",
              "                        ...,\n",
              "                        [23],\n",
              "                        [31],\n",
              "                        [ 8]], dtype=uint8), array([[ 493],\n",
              "                        [1020],\n",
              "                        [2358],\n",
              "                        ...,\n",
              "                        [ 515],\n",
              "                        [ 137],\n",
              "                        [3534]], dtype=uint16))                             ]],\n",
              "               dtype=[('images', 'O'), ('labels', 'O'), ('writers', 'O')]), array([[(array([[0, 0, 0, ..., 0, 0, 0],\n",
              "                        [0, 0, 0, ..., 0, 0, 0],\n",
              "                        [0, 0, 0, ..., 0, 0, 0],\n",
              "                        ...,\n",
              "                        [0, 0, 0, ..., 0, 0, 0],\n",
              "                        [0, 0, 0, ..., 0, 0, 0],\n",
              "                        [0, 0, 0, ..., 0, 0, 0]], dtype=uint8), array([[41],\n",
              "                        [39],\n",
              "                        [ 9],\n",
              "                        ...,\n",
              "                        [ 1],\n",
              "                        [26],\n",
              "                        [33]], dtype=uint8), array([[1666],\n",
              "                        [  25],\n",
              "                        [1611],\n",
              "                        ...,\n",
              "                        [ 520],\n",
              "                        [ 782],\n",
              "                        [3859]], dtype=uint16))                             ]],\n",
              "               dtype=[('images', 'O'), ('labels', 'O'), ('writers', 'O')]), array([[  0,  48],\n",
              "                [  1,  49],\n",
              "                [  2,  50],\n",
              "                [  3,  51],\n",
              "                [  4,  52],\n",
              "                [  5,  53],\n",
              "                [  6,  54],\n",
              "                [  7,  55],\n",
              "                [  8,  56],\n",
              "                [  9,  57],\n",
              "                [ 10,  65],\n",
              "                [ 11,  66],\n",
              "                [ 12,  67],\n",
              "                [ 13,  68],\n",
              "                [ 14,  69],\n",
              "                [ 15,  70],\n",
              "                [ 16,  71],\n",
              "                [ 17,  72],\n",
              "                [ 18,  73],\n",
              "                [ 19,  74],\n",
              "                [ 20,  75],\n",
              "                [ 21,  76],\n",
              "                [ 22,  77],\n",
              "                [ 23,  78],\n",
              "                [ 24,  79],\n",
              "                [ 25,  80],\n",
              "                [ 26,  81],\n",
              "                [ 27,  82],\n",
              "                [ 28,  83],\n",
              "                [ 29,  84],\n",
              "                [ 30,  85],\n",
              "                [ 31,  86],\n",
              "                [ 32,  87],\n",
              "                [ 33,  88],\n",
              "                [ 34,  89],\n",
              "                [ 35,  90],\n",
              "                [ 36,  97],\n",
              "                [ 37,  98],\n",
              "                [ 38, 100],\n",
              "                [ 39, 101],\n",
              "                [ 40, 102],\n",
              "                [ 41, 103],\n",
              "                [ 42, 104],\n",
              "                [ 43, 110],\n",
              "                [ 44, 113],\n",
              "                [ 45, 114],\n",
              "                [ 46, 116]], dtype=uint8))                                                                          ]],\n",
              "       dtype=[('train', 'O'), ('test', 'O'), ('mapping', 'O')])}"
            ]
          },
          "metadata": {},
          "execution_count": 7
        }
      ]
    },
    {
      "cell_type": "code",
      "source": [
        "scipy.io.loadmat(file_by_class, mdict=None, appendmat=True)"
      ],
      "metadata": {
        "colab": {
          "base_uri": "https://localhost:8080/"
        },
        "id": "mDGxWES3m3Mf",
        "outputId": "039e6eb3-119c-41e0-f94a-f89d356fdd86"
      },
      "execution_count": null,
      "outputs": [
        {
          "output_type": "execute_result",
          "data": {
            "text/plain": [
              "{'__globals__': [],\n",
              " '__header__': b'MATLAB 5.0 MAT-file, Platform: PCWIN64, Created on: Sun Dec 18 07:27:57 2016',\n",
              " '__version__': '1.0',\n",
              " 'dataset': array([[(array([[(array([[0, 0, 0, ..., 0, 0, 0],\n",
              "                        [0, 0, 0, ..., 0, 0, 0],\n",
              "                        [0, 0, 0, ..., 0, 0, 0],\n",
              "                        ...,\n",
              "                        [0, 0, 0, ..., 0, 0, 0],\n",
              "                        [0, 0, 0, ..., 0, 0, 0],\n",
              "                        [0, 0, 0, ..., 0, 0, 0]], dtype=uint8), array([[35],\n",
              "                        [36],\n",
              "                        [ 6],\n",
              "                        ...,\n",
              "                        [ 5],\n",
              "                        [11],\n",
              "                        [22]], dtype=uint8), array([[2376],\n",
              "                        [3994],\n",
              "                        [3699],\n",
              "                        ...,\n",
              "                        [  26],\n",
              "                        [ 421],\n",
              "                        [1243]], dtype=uint16))                             ]],\n",
              "               dtype=[('images', 'O'), ('labels', 'O'), ('writers', 'O')]), array([[(array([[0, 0, 0, ..., 0, 0, 0],\n",
              "                        [0, 0, 0, ..., 0, 0, 0],\n",
              "                        [0, 0, 0, ..., 0, 0, 0],\n",
              "                        ...,\n",
              "                        [0, 0, 0, ..., 0, 0, 0],\n",
              "                        [0, 0, 0, ..., 0, 0, 0],\n",
              "                        [0, 0, 0, ..., 0, 0, 0]], dtype=uint8), array([[18],\n",
              "                        [36],\n",
              "                        [ 0],\n",
              "                        ...,\n",
              "                        [28],\n",
              "                        [ 0],\n",
              "                        [ 5]], dtype=uint8), array([[ 464],\n",
              "                        [  12],\n",
              "                        [ 249],\n",
              "                        ...,\n",
              "                        [ 313],\n",
              "                        [ 512],\n",
              "                        [2497]], dtype=uint16))                             ]],\n",
              "               dtype=[('images', 'O'), ('labels', 'O'), ('writers', 'O')]), array([[  0,  48],\n",
              "                [  1,  49],\n",
              "                [  2,  50],\n",
              "                [  3,  51],\n",
              "                [  4,  52],\n",
              "                [  5,  53],\n",
              "                [  6,  54],\n",
              "                [  7,  55],\n",
              "                [  8,  56],\n",
              "                [  9,  57],\n",
              "                [ 10,  65],\n",
              "                [ 11,  66],\n",
              "                [ 12,  67],\n",
              "                [ 13,  68],\n",
              "                [ 14,  69],\n",
              "                [ 15,  70],\n",
              "                [ 16,  71],\n",
              "                [ 17,  72],\n",
              "                [ 18,  73],\n",
              "                [ 19,  74],\n",
              "                [ 20,  75],\n",
              "                [ 21,  76],\n",
              "                [ 22,  77],\n",
              "                [ 23,  78],\n",
              "                [ 24,  79],\n",
              "                [ 25,  80],\n",
              "                [ 26,  81],\n",
              "                [ 27,  82],\n",
              "                [ 28,  83],\n",
              "                [ 29,  84],\n",
              "                [ 30,  85],\n",
              "                [ 31,  86],\n",
              "                [ 32,  87],\n",
              "                [ 33,  88],\n",
              "                [ 34,  89],\n",
              "                [ 35,  90],\n",
              "                [ 36,  97],\n",
              "                [ 37,  98],\n",
              "                [ 38,  99],\n",
              "                [ 39, 100],\n",
              "                [ 40, 101],\n",
              "                [ 41, 102],\n",
              "                [ 42, 103],\n",
              "                [ 43, 104],\n",
              "                [ 44, 105],\n",
              "                [ 45, 106],\n",
              "                [ 46, 107],\n",
              "                [ 47, 108],\n",
              "                [ 48, 109],\n",
              "                [ 49, 110],\n",
              "                [ 50, 111],\n",
              "                [ 51, 112],\n",
              "                [ 52, 113],\n",
              "                [ 53, 114],\n",
              "                [ 54, 115],\n",
              "                [ 55, 116],\n",
              "                [ 56, 117],\n",
              "                [ 57, 118],\n",
              "                [ 58, 119],\n",
              "                [ 59, 120],\n",
              "                [ 60, 121],\n",
              "                [ 61, 122]], dtype=uint8))                                                                          ]],\n",
              "       dtype=[('train', 'O'), ('test', 'O'), ('mapping', 'O')])}"
            ]
          },
          "metadata": {},
          "execution_count": 9
        }
      ]
    },
    {
      "cell_type": "code",
      "source": [
        "mat_data_by_merge = scipy.io.loadmat(file_by_merge, mdict=None, appendmat=True)"
      ],
      "metadata": {
        "id": "w4jul-Puo5or"
      },
      "execution_count": null,
      "outputs": []
    },
    {
      "cell_type": "code",
      "source": [
        "mat_data_by_merge[\"dataset\"]"
      ],
      "metadata": {
        "colab": {
          "base_uri": "https://localhost:8080/"
        },
        "id": "pxIYPx0NqpR_",
        "outputId": "dc83b491-bd63-4b6b-c5bb-122d5df82c80"
      },
      "execution_count": null,
      "outputs": [
        {
          "output_type": "execute_result",
          "data": {
            "text/plain": [
              "array([[(array([[(array([[0, 0, 0, ..., 0, 0, 0],\n",
              "                       [0, 0, 0, ..., 0, 0, 0],\n",
              "                       [0, 0, 0, ..., 0, 0, 0],\n",
              "                       ...,\n",
              "                       [0, 0, 0, ..., 0, 0, 0],\n",
              "                       [0, 0, 0, ..., 0, 0, 0],\n",
              "                       [0, 0, 0, ..., 0, 0, 0]], dtype=uint8), array([[24],\n",
              "                       [36],\n",
              "                       [ 5],\n",
              "                       ...,\n",
              "                       [ 9],\n",
              "                       [36],\n",
              "                       [ 1]], dtype=uint8), array([[  33],\n",
              "                       [3568],\n",
              "                       [3100],\n",
              "                       ...,\n",
              "                       [3406],\n",
              "                       [ 466],\n",
              "                       [ 189]], dtype=uint16))                             ]],\n",
              "              dtype=[('images', 'O'), ('labels', 'O'), ('writers', 'O')]), array([[(array([[0, 0, 0, ..., 0, 0, 0],\n",
              "                       [0, 0, 0, ..., 0, 0, 0],\n",
              "                       [0, 0, 0, ..., 0, 0, 0],\n",
              "                       ...,\n",
              "                       [0, 0, 0, ..., 0, 0, 0],\n",
              "                       [0, 0, 0, ..., 0, 0, 0],\n",
              "                       [0, 0, 0, ..., 0, 0, 0]], dtype=uint8), array([[24],\n",
              "                       [22],\n",
              "                       [28],\n",
              "                       ...,\n",
              "                       [ 3],\n",
              "                       [ 3],\n",
              "                       [ 7]], dtype=uint8), array([[ 242],\n",
              "                       [ 125],\n",
              "                       [ 382],\n",
              "                       ...,\n",
              "                       [  94],\n",
              "                       [4037],\n",
              "                       [1125]], dtype=uint16))                             ]],\n",
              "              dtype=[('images', 'O'), ('labels', 'O'), ('writers', 'O')]), array([[  0,  48],\n",
              "               [  1,  49],\n",
              "               [  2,  50],\n",
              "               [  3,  51],\n",
              "               [  4,  52],\n",
              "               [  5,  53],\n",
              "               [  6,  54],\n",
              "               [  7,  55],\n",
              "               [  8,  56],\n",
              "               [  9,  57],\n",
              "               [ 10,  65],\n",
              "               [ 11,  66],\n",
              "               [ 12,  67],\n",
              "               [ 13,  68],\n",
              "               [ 14,  69],\n",
              "               [ 15,  70],\n",
              "               [ 16,  71],\n",
              "               [ 17,  72],\n",
              "               [ 18,  73],\n",
              "               [ 19,  74],\n",
              "               [ 20,  75],\n",
              "               [ 21,  76],\n",
              "               [ 22,  77],\n",
              "               [ 23,  78],\n",
              "               [ 24,  79],\n",
              "               [ 25,  80],\n",
              "               [ 26,  81],\n",
              "               [ 27,  82],\n",
              "               [ 28,  83],\n",
              "               [ 29,  84],\n",
              "               [ 30,  85],\n",
              "               [ 31,  86],\n",
              "               [ 32,  87],\n",
              "               [ 33,  88],\n",
              "               [ 34,  89],\n",
              "               [ 35,  90],\n",
              "               [ 36,  97],\n",
              "               [ 37,  98],\n",
              "               [ 38, 100],\n",
              "               [ 39, 101],\n",
              "               [ 40, 102],\n",
              "               [ 41, 103],\n",
              "               [ 42, 104],\n",
              "               [ 43, 110],\n",
              "               [ 44, 113],\n",
              "               [ 45, 114],\n",
              "               [ 46, 116]], dtype=uint8))                                                                          ]],\n",
              "      dtype=[('train', 'O'), ('test', 'O'), ('mapping', 'O')])"
            ]
          },
          "metadata": {},
          "execution_count": 78
        }
      ]
    },
    {
      "cell_type": "code",
      "source": [
        "data_train_by_merge = mat_data_by_merge[\"dataset\"][0][0][0][0][0][0]"
      ],
      "metadata": {
        "id": "t3jZY44DtmiD"
      },
      "execution_count": null,
      "outputs": []
    },
    {
      "cell_type": "code",
      "source": [
        "data_train_by_merge.shape"
      ],
      "metadata": {
        "colab": {
          "base_uri": "https://localhost:8080/"
        },
        "id": "zdF4njwwt1Tm",
        "outputId": "4ec56562-4531-45ef-c58e-a2b51dcc87f3"
      },
      "execution_count": null,
      "outputs": [
        {
          "output_type": "execute_result",
          "data": {
            "text/plain": [
              "(697932, 784)"
            ]
          },
          "metadata": {},
          "execution_count": 90
        }
      ]
    },
    {
      "cell_type": "code",
      "source": [
        "data_test_by_merge = mat_data_by_merge[\"dataset\"][0][0][1][0][0][0]"
      ],
      "metadata": {
        "id": "2cOB3ZZQw6UZ"
      },
      "execution_count": null,
      "outputs": []
    },
    {
      "cell_type": "code",
      "source": [
        "data_test_by_merge.shape"
      ],
      "metadata": {
        "colab": {
          "base_uri": "https://localhost:8080/"
        },
        "id": "u2Mhazsm6NkQ",
        "outputId": "08a98a42-2bf9-4602-c856-f7aa833fc927"
      },
      "execution_count": null,
      "outputs": [
        {
          "output_type": "execute_result",
          "data": {
            "text/plain": [
              "(116323, 784)"
            ]
          },
          "metadata": {},
          "execution_count": 64
        }
      ]
    },
    {
      "cell_type": "code",
      "source": [
        "from __future__ import print_function\n",
        "import torch"
      ],
      "metadata": {
        "id": "7M7VX2JX6mSI"
      },
      "execution_count": null,
      "outputs": []
    },
    {
      "cell_type": "code",
      "source": [
        "torch.from_numpy(data_test_by_merge)"
      ],
      "metadata": {
        "colab": {
          "base_uri": "https://localhost:8080/"
        },
        "id": "fAxFbOYo9drP",
        "outputId": "de2e5604-6197-49e5-c5ad-9f4f5536c93d"
      },
      "execution_count": null,
      "outputs": [
        {
          "output_type": "execute_result",
          "data": {
            "text/plain": [
              "tensor([[0, 0, 0,  ..., 0, 0, 0],\n",
              "        [0, 0, 0,  ..., 0, 0, 0],\n",
              "        [0, 0, 0,  ..., 0, 0, 0],\n",
              "        ...,\n",
              "        [0, 0, 0,  ..., 0, 0, 0],\n",
              "        [0, 0, 0,  ..., 0, 0, 0],\n",
              "        [0, 0, 0,  ..., 0, 0, 0]], dtype=torch.uint8)"
            ]
          },
          "metadata": {},
          "execution_count": 92
        }
      ]
    },
    {
      "cell_type": "code",
      "source": [
        ""
      ],
      "metadata": {
        "id": "S-sH8GyCILAi"
      },
      "execution_count": null,
      "outputs": []
    }
  ]
}