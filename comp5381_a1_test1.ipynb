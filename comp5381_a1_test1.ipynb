{
  "nbformat": 4,
  "nbformat_minor": 0,
  "metadata": {
    "colab": {
      "name": "comp5381_a1_test1.ipynb",
      "provenance": [],
      "authorship_tag": "ABX9TyMp3jWcSwGCa8fYTWxIkei5",
      "include_colab_link": true
    },
    "kernelspec": {
      "name": "python3",
      "display_name": "Python 3"
    },
    "language_info": {
      "name": "python"
    },
    "accelerator": "GPU"
  },
  "cells": [
    {
      "cell_type": "markdown",
      "metadata": {
        "id": "view-in-github",
        "colab_type": "text"
      },
      "source": [
        "<a href=\"https://colab.research.google.com/github/ANG29/COMP5318/blob/main/comp5381_a1_test1.ipynb\" target=\"_parent\"><img src=\"https://colab.research.google.com/assets/colab-badge.svg\" alt=\"Open In Colab\"/></a>"
      ]
    },
    {
      "cell_type": "code",
      "execution_count": 1,
      "metadata": {
        "colab": {
          "base_uri": "https://localhost:8080/"
        },
        "id": "6n02-4mnleCw",
        "outputId": "a8692c3b-7a9a-4c8c-9186-90df0bb553a8"
      },
      "outputs": [
        {
          "output_type": "stream",
          "name": "stdout",
          "text": [
            "Drive already mounted at /content/drive; to attempt to forcibly remount, call drive.mount(\"/content/drive\", force_remount=True).\n"
          ]
        }
      ],
      "source": [
        "from google.colab import drive\n",
        "drive.mount('/content/drive')"
      ]
    },
    {
      "cell_type": "code",
      "source": [
        "import scipy.io\n",
        "import numpy as np "
      ],
      "metadata": {
        "id": "LaaVpNzalshK"
      },
      "execution_count": 2,
      "outputs": []
    },
    {
      "cell_type": "code",
      "source": [
        "file_balanced = \"/content/drive/MyDrive/COMP5318/emnist-balanced.mat\"\n",
        "file_by_class = \"/content/drive/MyDrive/COMP5318/emnist-byclass.mat\"\n",
        "file_by_merge = \"/content/drive/MyDrive/COMP5318/emnist-bymerge.mat\""
      ],
      "metadata": {
        "id": "yADHm23tmgxl"
      },
      "execution_count": 3,
      "outputs": []
    },
    {
      "cell_type": "code",
      "source": [
        "scipy.io.loadmat(file_balanced, mdict=None, appendmat=True)"
      ],
      "metadata": {
        "colab": {
          "base_uri": "https://localhost:8080/"
        },
        "id": "bLuIU_24mzqn",
        "outputId": "3f9db915-b7b3-4e9e-9b46-6750eaec944b"
      },
      "execution_count": 4,
      "outputs": [
        {
          "output_type": "execute_result",
          "data": {
            "text/plain": [
              "{'__globals__': [],\n",
              " '__header__': b'MATLAB 5.0 MAT-file, Platform: PCWIN64, Created on: Tue Dec 20 07:38:25 2016',\n",
              " '__version__': '1.0',\n",
              " 'dataset': array([[(array([[(array([[0, 0, 0, ..., 0, 0, 0],\n",
              "                        [0, 0, 0, ..., 0, 0, 0],\n",
              "                        [0, 0, 0, ..., 0, 0, 0],\n",
              "                        ...,\n",
              "                        [0, 0, 0, ..., 0, 0, 0],\n",
              "                        [0, 0, 0, ..., 0, 0, 0],\n",
              "                        [0, 0, 0, ..., 0, 0, 0]], dtype=uint8), array([[45],\n",
              "                        [36],\n",
              "                        [43],\n",
              "                        ...,\n",
              "                        [23],\n",
              "                        [31],\n",
              "                        [ 8]], dtype=uint8), array([[ 493],\n",
              "                        [1020],\n",
              "                        [2358],\n",
              "                        ...,\n",
              "                        [ 515],\n",
              "                        [ 137],\n",
              "                        [3534]], dtype=uint16))                             ]],\n",
              "               dtype=[('images', 'O'), ('labels', 'O'), ('writers', 'O')]), array([[(array([[0, 0, 0, ..., 0, 0, 0],\n",
              "                        [0, 0, 0, ..., 0, 0, 0],\n",
              "                        [0, 0, 0, ..., 0, 0, 0],\n",
              "                        ...,\n",
              "                        [0, 0, 0, ..., 0, 0, 0],\n",
              "                        [0, 0, 0, ..., 0, 0, 0],\n",
              "                        [0, 0, 0, ..., 0, 0, 0]], dtype=uint8), array([[41],\n",
              "                        [39],\n",
              "                        [ 9],\n",
              "                        ...,\n",
              "                        [ 1],\n",
              "                        [26],\n",
              "                        [33]], dtype=uint8), array([[1666],\n",
              "                        [  25],\n",
              "                        [1611],\n",
              "                        ...,\n",
              "                        [ 520],\n",
              "                        [ 782],\n",
              "                        [3859]], dtype=uint16))                             ]],\n",
              "               dtype=[('images', 'O'), ('labels', 'O'), ('writers', 'O')]), array([[  0,  48],\n",
              "                [  1,  49],\n",
              "                [  2,  50],\n",
              "                [  3,  51],\n",
              "                [  4,  52],\n",
              "                [  5,  53],\n",
              "                [  6,  54],\n",
              "                [  7,  55],\n",
              "                [  8,  56],\n",
              "                [  9,  57],\n",
              "                [ 10,  65],\n",
              "                [ 11,  66],\n",
              "                [ 12,  67],\n",
              "                [ 13,  68],\n",
              "                [ 14,  69],\n",
              "                [ 15,  70],\n",
              "                [ 16,  71],\n",
              "                [ 17,  72],\n",
              "                [ 18,  73],\n",
              "                [ 19,  74],\n",
              "                [ 20,  75],\n",
              "                [ 21,  76],\n",
              "                [ 22,  77],\n",
              "                [ 23,  78],\n",
              "                [ 24,  79],\n",
              "                [ 25,  80],\n",
              "                [ 26,  81],\n",
              "                [ 27,  82],\n",
              "                [ 28,  83],\n",
              "                [ 29,  84],\n",
              "                [ 30,  85],\n",
              "                [ 31,  86],\n",
              "                [ 32,  87],\n",
              "                [ 33,  88],\n",
              "                [ 34,  89],\n",
              "                [ 35,  90],\n",
              "                [ 36,  97],\n",
              "                [ 37,  98],\n",
              "                [ 38, 100],\n",
              "                [ 39, 101],\n",
              "                [ 40, 102],\n",
              "                [ 41, 103],\n",
              "                [ 42, 104],\n",
              "                [ 43, 110],\n",
              "                [ 44, 113],\n",
              "                [ 45, 114],\n",
              "                [ 46, 116]], dtype=uint8))                                                                          ]],\n",
              "       dtype=[('train', 'O'), ('test', 'O'), ('mapping', 'O')])}"
            ]
          },
          "metadata": {},
          "execution_count": 4
        }
      ]
    },
    {
      "cell_type": "code",
      "source": [
        "scipy.io.loadmat(file_by_class, mdict=None, appendmat=True)"
      ],
      "metadata": {
        "colab": {
          "base_uri": "https://localhost:8080/"
        },
        "id": "mDGxWES3m3Mf",
        "outputId": "7beba257-99cf-4d51-c4f6-87e2817f8b03"
      },
      "execution_count": 5,
      "outputs": [
        {
          "output_type": "execute_result",
          "data": {
            "text/plain": [
              "{'__globals__': [],\n",
              " '__header__': b'MATLAB 5.0 MAT-file, Platform: PCWIN64, Created on: Sun Dec 18 07:27:57 2016',\n",
              " '__version__': '1.0',\n",
              " 'dataset': array([[(array([[(array([[0, 0, 0, ..., 0, 0, 0],\n",
              "                        [0, 0, 0, ..., 0, 0, 0],\n",
              "                        [0, 0, 0, ..., 0, 0, 0],\n",
              "                        ...,\n",
              "                        [0, 0, 0, ..., 0, 0, 0],\n",
              "                        [0, 0, 0, ..., 0, 0, 0],\n",
              "                        [0, 0, 0, ..., 0, 0, 0]], dtype=uint8), array([[35],\n",
              "                        [36],\n",
              "                        [ 6],\n",
              "                        ...,\n",
              "                        [ 5],\n",
              "                        [11],\n",
              "                        [22]], dtype=uint8), array([[2376],\n",
              "                        [3994],\n",
              "                        [3699],\n",
              "                        ...,\n",
              "                        [  26],\n",
              "                        [ 421],\n",
              "                        [1243]], dtype=uint16))                             ]],\n",
              "               dtype=[('images', 'O'), ('labels', 'O'), ('writers', 'O')]), array([[(array([[0, 0, 0, ..., 0, 0, 0],\n",
              "                        [0, 0, 0, ..., 0, 0, 0],\n",
              "                        [0, 0, 0, ..., 0, 0, 0],\n",
              "                        ...,\n",
              "                        [0, 0, 0, ..., 0, 0, 0],\n",
              "                        [0, 0, 0, ..., 0, 0, 0],\n",
              "                        [0, 0, 0, ..., 0, 0, 0]], dtype=uint8), array([[18],\n",
              "                        [36],\n",
              "                        [ 0],\n",
              "                        ...,\n",
              "                        [28],\n",
              "                        [ 0],\n",
              "                        [ 5]], dtype=uint8), array([[ 464],\n",
              "                        [  12],\n",
              "                        [ 249],\n",
              "                        ...,\n",
              "                        [ 313],\n",
              "                        [ 512],\n",
              "                        [2497]], dtype=uint16))                             ]],\n",
              "               dtype=[('images', 'O'), ('labels', 'O'), ('writers', 'O')]), array([[  0,  48],\n",
              "                [  1,  49],\n",
              "                [  2,  50],\n",
              "                [  3,  51],\n",
              "                [  4,  52],\n",
              "                [  5,  53],\n",
              "                [  6,  54],\n",
              "                [  7,  55],\n",
              "                [  8,  56],\n",
              "                [  9,  57],\n",
              "                [ 10,  65],\n",
              "                [ 11,  66],\n",
              "                [ 12,  67],\n",
              "                [ 13,  68],\n",
              "                [ 14,  69],\n",
              "                [ 15,  70],\n",
              "                [ 16,  71],\n",
              "                [ 17,  72],\n",
              "                [ 18,  73],\n",
              "                [ 19,  74],\n",
              "                [ 20,  75],\n",
              "                [ 21,  76],\n",
              "                [ 22,  77],\n",
              "                [ 23,  78],\n",
              "                [ 24,  79],\n",
              "                [ 25,  80],\n",
              "                [ 26,  81],\n",
              "                [ 27,  82],\n",
              "                [ 28,  83],\n",
              "                [ 29,  84],\n",
              "                [ 30,  85],\n",
              "                [ 31,  86],\n",
              "                [ 32,  87],\n",
              "                [ 33,  88],\n",
              "                [ 34,  89],\n",
              "                [ 35,  90],\n",
              "                [ 36,  97],\n",
              "                [ 37,  98],\n",
              "                [ 38,  99],\n",
              "                [ 39, 100],\n",
              "                [ 40, 101],\n",
              "                [ 41, 102],\n",
              "                [ 42, 103],\n",
              "                [ 43, 104],\n",
              "                [ 44, 105],\n",
              "                [ 45, 106],\n",
              "                [ 46, 107],\n",
              "                [ 47, 108],\n",
              "                [ 48, 109],\n",
              "                [ 49, 110],\n",
              "                [ 50, 111],\n",
              "                [ 51, 112],\n",
              "                [ 52, 113],\n",
              "                [ 53, 114],\n",
              "                [ 54, 115],\n",
              "                [ 55, 116],\n",
              "                [ 56, 117],\n",
              "                [ 57, 118],\n",
              "                [ 58, 119],\n",
              "                [ 59, 120],\n",
              "                [ 60, 121],\n",
              "                [ 61, 122]], dtype=uint8))                                                                          ]],\n",
              "       dtype=[('train', 'O'), ('test', 'O'), ('mapping', 'O')])}"
            ]
          },
          "metadata": {},
          "execution_count": 5
        }
      ]
    },
    {
      "cell_type": "code",
      "source": [
        "mat_data_by_merge = scipy.io.loadmat(file_by_merge, mdict=None, appendmat=True)"
      ],
      "metadata": {
        "id": "w4jul-Puo5or"
      },
      "execution_count": 6,
      "outputs": []
    },
    {
      "cell_type": "code",
      "source": [
        "mat_data_by_merge[\"dataset\"]"
      ],
      "metadata": {
        "colab": {
          "base_uri": "https://localhost:8080/"
        },
        "id": "pxIYPx0NqpR_",
        "outputId": "1148d8d5-a19c-4349-94be-31571f5f132c"
      },
      "execution_count": 7,
      "outputs": [
        {
          "output_type": "execute_result",
          "data": {
            "text/plain": [
              "array([[(array([[(array([[0, 0, 0, ..., 0, 0, 0],\n",
              "                       [0, 0, 0, ..., 0, 0, 0],\n",
              "                       [0, 0, 0, ..., 0, 0, 0],\n",
              "                       ...,\n",
              "                       [0, 0, 0, ..., 0, 0, 0],\n",
              "                       [0, 0, 0, ..., 0, 0, 0],\n",
              "                       [0, 0, 0, ..., 0, 0, 0]], dtype=uint8), array([[24],\n",
              "                       [36],\n",
              "                       [ 5],\n",
              "                       ...,\n",
              "                       [ 9],\n",
              "                       [36],\n",
              "                       [ 1]], dtype=uint8), array([[  33],\n",
              "                       [3568],\n",
              "                       [3100],\n",
              "                       ...,\n",
              "                       [3406],\n",
              "                       [ 466],\n",
              "                       [ 189]], dtype=uint16))                             ]],\n",
              "              dtype=[('images', 'O'), ('labels', 'O'), ('writers', 'O')]), array([[(array([[0, 0, 0, ..., 0, 0, 0],\n",
              "                       [0, 0, 0, ..., 0, 0, 0],\n",
              "                       [0, 0, 0, ..., 0, 0, 0],\n",
              "                       ...,\n",
              "                       [0, 0, 0, ..., 0, 0, 0],\n",
              "                       [0, 0, 0, ..., 0, 0, 0],\n",
              "                       [0, 0, 0, ..., 0, 0, 0]], dtype=uint8), array([[24],\n",
              "                       [22],\n",
              "                       [28],\n",
              "                       ...,\n",
              "                       [ 3],\n",
              "                       [ 3],\n",
              "                       [ 7]], dtype=uint8), array([[ 242],\n",
              "                       [ 125],\n",
              "                       [ 382],\n",
              "                       ...,\n",
              "                       [  94],\n",
              "                       [4037],\n",
              "                       [1125]], dtype=uint16))                             ]],\n",
              "              dtype=[('images', 'O'), ('labels', 'O'), ('writers', 'O')]), array([[  0,  48],\n",
              "               [  1,  49],\n",
              "               [  2,  50],\n",
              "               [  3,  51],\n",
              "               [  4,  52],\n",
              "               [  5,  53],\n",
              "               [  6,  54],\n",
              "               [  7,  55],\n",
              "               [  8,  56],\n",
              "               [  9,  57],\n",
              "               [ 10,  65],\n",
              "               [ 11,  66],\n",
              "               [ 12,  67],\n",
              "               [ 13,  68],\n",
              "               [ 14,  69],\n",
              "               [ 15,  70],\n",
              "               [ 16,  71],\n",
              "               [ 17,  72],\n",
              "               [ 18,  73],\n",
              "               [ 19,  74],\n",
              "               [ 20,  75],\n",
              "               [ 21,  76],\n",
              "               [ 22,  77],\n",
              "               [ 23,  78],\n",
              "               [ 24,  79],\n",
              "               [ 25,  80],\n",
              "               [ 26,  81],\n",
              "               [ 27,  82],\n",
              "               [ 28,  83],\n",
              "               [ 29,  84],\n",
              "               [ 30,  85],\n",
              "               [ 31,  86],\n",
              "               [ 32,  87],\n",
              "               [ 33,  88],\n",
              "               [ 34,  89],\n",
              "               [ 35,  90],\n",
              "               [ 36,  97],\n",
              "               [ 37,  98],\n",
              "               [ 38, 100],\n",
              "               [ 39, 101],\n",
              "               [ 40, 102],\n",
              "               [ 41, 103],\n",
              "               [ 42, 104],\n",
              "               [ 43, 110],\n",
              "               [ 44, 113],\n",
              "               [ 45, 114],\n",
              "               [ 46, 116]], dtype=uint8))                                                                          ]],\n",
              "      dtype=[('train', 'O'), ('test', 'O'), ('mapping', 'O')])"
            ]
          },
          "metadata": {},
          "execution_count": 7
        }
      ]
    },
    {
      "cell_type": "code",
      "source": [
        "data_train_by_merge = mat_data_by_merge[\"dataset\"][0][0][0][0][0][0]"
      ],
      "metadata": {
        "id": "t3jZY44DtmiD"
      },
      "execution_count": 8,
      "outputs": []
    },
    {
      "cell_type": "code",
      "source": [
        "data_train_by_merge.shape"
      ],
      "metadata": {
        "colab": {
          "base_uri": "https://localhost:8080/"
        },
        "id": "zdF4njwwt1Tm",
        "outputId": "e3b5b52f-c0e5-474b-ef80-e8003418f0c8"
      },
      "execution_count": 9,
      "outputs": [
        {
          "output_type": "execute_result",
          "data": {
            "text/plain": [
              "(697932, 784)"
            ]
          },
          "metadata": {},
          "execution_count": 9
        }
      ]
    },
    {
      "cell_type": "code",
      "source": [
        "label_train_by_merge = mat_data_by_merge[\"dataset\"][0][0][0][0][0][1]"
      ],
      "metadata": {
        "id": "fY1HuR8rUOZL"
      },
      "execution_count": 10,
      "outputs": []
    },
    {
      "cell_type": "code",
      "source": [
        "label_train_by_merge"
      ],
      "metadata": {
        "colab": {
          "base_uri": "https://localhost:8080/"
        },
        "id": "ReY9iQ_TUjSF",
        "outputId": "82e6cce6-3d70-433f-c7ad-d2496c358438"
      },
      "execution_count": 11,
      "outputs": [
        {
          "output_type": "execute_result",
          "data": {
            "text/plain": [
              "array([[24],\n",
              "       [36],\n",
              "       [ 5],\n",
              "       ...,\n",
              "       [ 9],\n",
              "       [36],\n",
              "       [ 1]], dtype=uint8)"
            ]
          },
          "metadata": {},
          "execution_count": 11
        }
      ]
    },
    {
      "cell_type": "code",
      "source": [
        "data_test_by_merge = mat_data_by_merge[\"dataset\"][0][0][1][0][0][0]"
      ],
      "metadata": {
        "id": "2cOB3ZZQw6UZ"
      },
      "execution_count": 12,
      "outputs": []
    },
    {
      "cell_type": "code",
      "source": [
        "data_test_by_merge.shape"
      ],
      "metadata": {
        "colab": {
          "base_uri": "https://localhost:8080/"
        },
        "id": "u2Mhazsm6NkQ",
        "outputId": "b9ecbcf0-ad4f-4501-8901-d0c533c057ee"
      },
      "execution_count": 13,
      "outputs": [
        {
          "output_type": "execute_result",
          "data": {
            "text/plain": [
              "(116323, 784)"
            ]
          },
          "metadata": {},
          "execution_count": 13
        }
      ]
    },
    {
      "cell_type": "code",
      "source": [
        "lable_test_by_merge = mat_data_by_merge[\"dataset\"][0][0][1][0][0][1]"
      ],
      "metadata": {
        "id": "E2czwlbhVNVh"
      },
      "execution_count": 14,
      "outputs": []
    },
    {
      "cell_type": "code",
      "source": [
        "lable_test_by_merge"
      ],
      "metadata": {
        "colab": {
          "base_uri": "https://localhost:8080/"
        },
        "id": "ddVEdJT5VP1r",
        "outputId": "e949b18d-6227-42e7-c8f1-af97f483509e"
      },
      "execution_count": 15,
      "outputs": [
        {
          "output_type": "execute_result",
          "data": {
            "text/plain": [
              "array([[24],\n",
              "       [22],\n",
              "       [28],\n",
              "       ...,\n",
              "       [ 3],\n",
              "       [ 3],\n",
              "       [ 7]], dtype=uint8)"
            ]
          },
          "metadata": {},
          "execution_count": 15
        }
      ]
    },
    {
      "cell_type": "code",
      "source": [
        "mapping = mat_data_by_merge[\"dataset\"][0][0][2]"
      ],
      "metadata": {
        "id": "RR_UQnxLVU5v"
      },
      "execution_count": 16,
      "outputs": []
    },
    {
      "cell_type": "code",
      "source": [
        "mapping"
      ],
      "metadata": {
        "colab": {
          "base_uri": "https://localhost:8080/"
        },
        "id": "SfNEwViJVlai",
        "outputId": "eba9d1ae-5965-4a27-8c9e-7b97287a6d5f"
      },
      "execution_count": 17,
      "outputs": [
        {
          "output_type": "execute_result",
          "data": {
            "text/plain": [
              "array([[  0,  48],\n",
              "       [  1,  49],\n",
              "       [  2,  50],\n",
              "       [  3,  51],\n",
              "       [  4,  52],\n",
              "       [  5,  53],\n",
              "       [  6,  54],\n",
              "       [  7,  55],\n",
              "       [  8,  56],\n",
              "       [  9,  57],\n",
              "       [ 10,  65],\n",
              "       [ 11,  66],\n",
              "       [ 12,  67],\n",
              "       [ 13,  68],\n",
              "       [ 14,  69],\n",
              "       [ 15,  70],\n",
              "       [ 16,  71],\n",
              "       [ 17,  72],\n",
              "       [ 18,  73],\n",
              "       [ 19,  74],\n",
              "       [ 20,  75],\n",
              "       [ 21,  76],\n",
              "       [ 22,  77],\n",
              "       [ 23,  78],\n",
              "       [ 24,  79],\n",
              "       [ 25,  80],\n",
              "       [ 26,  81],\n",
              "       [ 27,  82],\n",
              "       [ 28,  83],\n",
              "       [ 29,  84],\n",
              "       [ 30,  85],\n",
              "       [ 31,  86],\n",
              "       [ 32,  87],\n",
              "       [ 33,  88],\n",
              "       [ 34,  89],\n",
              "       [ 35,  90],\n",
              "       [ 36,  97],\n",
              "       [ 37,  98],\n",
              "       [ 38, 100],\n",
              "       [ 39, 101],\n",
              "       [ 40, 102],\n",
              "       [ 41, 103],\n",
              "       [ 42, 104],\n",
              "       [ 43, 110],\n",
              "       [ 44, 113],\n",
              "       [ 45, 114],\n",
              "       [ 46, 116]], dtype=uint8)"
            ]
          },
          "metadata": {},
          "execution_count": 17
        }
      ]
    },
    {
      "cell_type": "code",
      "source": [
        "from __future__ import print_function\n",
        "import torch\n",
        "import torch.nn as nn\n",
        "import torch.nn.functional as F\n",
        "import torch\n",
        "import torchvision\n",
        "import torchvision.transforms as transforms"
      ],
      "metadata": {
        "id": "7M7VX2JX6mSI"
      },
      "execution_count": 18,
      "outputs": []
    },
    {
      "cell_type": "code",
      "source": [
        "torch.from_numpy(data_test_by_merge)"
      ],
      "metadata": {
        "colab": {
          "base_uri": "https://localhost:8080/"
        },
        "id": "fAxFbOYo9drP",
        "outputId": "bfed4749-b848-4086-d55b-166ce5b9dede"
      },
      "execution_count": 19,
      "outputs": [
        {
          "output_type": "execute_result",
          "data": {
            "text/plain": [
              "tensor([[0, 0, 0,  ..., 0, 0, 0],\n",
              "        [0, 0, 0,  ..., 0, 0, 0],\n",
              "        [0, 0, 0,  ..., 0, 0, 0],\n",
              "        ...,\n",
              "        [0, 0, 0,  ..., 0, 0, 0],\n",
              "        [0, 0, 0,  ..., 0, 0, 0],\n",
              "        [0, 0, 0,  ..., 0, 0, 0]], dtype=torch.uint8)"
            ]
          },
          "metadata": {},
          "execution_count": 19
        }
      ]
    },
    {
      "cell_type": "markdown",
      "source": [
        "# 开始卷"
      ],
      "metadata": {
        "id": "9LwcfD3RWVGJ"
      }
    },
    {
      "cell_type": "code",
      "source": [
        "data_train_by_merge = data_train_by_merge/255\n"
      ],
      "metadata": {
        "id": "0hxfUI5JaEfH"
      },
      "execution_count": 20,
      "outputs": []
    },
    {
      "cell_type": "code",
      "source": [
        "import numpy as np\n",
        "pic_list = []\n",
        "for pic in data_train_by_merge:\n",
        "  new_pic = np.array(pic).reshape(28,28)\n",
        "  pic_list.append(new_pic)\n",
        "\n"
      ],
      "metadata": {
        "id": "jCJ3PowPaGUD"
      },
      "execution_count": 21,
      "outputs": []
    },
    {
      "cell_type": "code",
      "source": [
        "data_train_by_merge_28 = np.array(pic_list)"
      ],
      "metadata": {
        "id": "QQTvI0EXd0-C"
      },
      "execution_count": null,
      "outputs": []
    },
    {
      "cell_type": "code",
      "source": [
        "data_train_torch = torch.from_numpy(data_train_by_merge_28)"
      ],
      "metadata": {
        "id": "6-6WYh_YWajx"
      },
      "execution_count": null,
      "outputs": []
    },
    {
      "cell_type": "code",
      "source": [
        "trainloader = torch.utils.data.DataLoader(data_train_torch, batch_size=4,\n",
        "\tshuffle=True, num_workers=2)"
      ],
      "metadata": {
        "id": "Ru81L7uYWrk0"
      },
      "execution_count": null,
      "outputs": []
    },
    {
      "cell_type": "code",
      "source": [
        "trainloader"
      ],
      "metadata": {
        "id": "cXe9ua13YK65"
      },
      "execution_count": null,
      "outputs": []
    },
    {
      "cell_type": "code",
      "source": [
        "tmp_list = []\n",
        "for i in mapping:\n",
        "  tmp_list.append(i[0])\n",
        "classes = tuple(tmp_list)"
      ],
      "metadata": {
        "id": "PEXaaWT_XDpa"
      },
      "execution_count": null,
      "outputs": []
    },
    {
      "cell_type": "code",
      "source": [
        "import matplotlib.pyplot as plt\n",
        "import numpy as np\n",
        "\n",
        "# 显示图片的函数\n",
        "\n",
        "\n",
        "def imshow(img):\n",
        "  #img = img / 2 + 0.5     #  [-1,1] -> [0,1]\n",
        "  npimg = img.numpy()\n",
        "  plt.imshow(np.transpose(npimg, (1, 2, 0))) # (channel, width, height) -> (width, height, channel)\n",
        "\n",
        "\n",
        "# 随机选择一些图片\n",
        "dataiter = iter(trainloader)\n",
        "images = dataiter.next()\n",
        "\n",
        "# 显示图片\n",
        "imshow(torchvision.utils.make_grid(images))\n",
        "# 打印label\n",
        "#print(' '.join('%5s' % classes[labels[j]] for j in range(4)))"
      ],
      "metadata": {
        "id": "hGov21CEXEm6"
      },
      "execution_count": null,
      "outputs": []
    },
    {
      "cell_type": "code",
      "source": [
        ""
      ],
      "metadata": {
        "id": "nb6Fo6y5XEpj"
      },
      "execution_count": null,
      "outputs": []
    },
    {
      "cell_type": "code",
      "source": [
        ""
      ],
      "metadata": {
        "id": "lsYmKSlzXErp"
      },
      "execution_count": null,
      "outputs": []
    },
    {
      "cell_type": "code",
      "source": [
        ""
      ],
      "metadata": {
        "id": "Fl9v1zwUXEvg"
      },
      "execution_count": null,
      "outputs": []
    },
    {
      "cell_type": "code",
      "source": [
        ""
      ],
      "metadata": {
        "id": "DWIP0O4sXExh"
      },
      "execution_count": null,
      "outputs": []
    },
    {
      "cell_type": "code",
      "source": [
        ""
      ],
      "metadata": {
        "id": "y4bWUWGHXE1i"
      },
      "execution_count": null,
      "outputs": []
    },
    {
      "cell_type": "code",
      "source": [
        ""
      ],
      "metadata": {
        "id": "9AOUdaTKXE5W"
      },
      "execution_count": null,
      "outputs": []
    },
    {
      "cell_type": "code",
      "source": [
        "import torch.nn as nn\n",
        "import torch.nn.functional as F\n",
        "\n",
        "\n",
        "class Net(nn.Module):\n",
        "\tdef __init__(self):\n",
        "\t\tsuper(Net, self).__init__()\n",
        "\t\tself.conv1 = nn.Conv2d(1, 6, 5)\n",
        "\t\tself.pool = nn.MaxPool2d(2, 2)\n",
        "\t\tself.conv2 = nn.Conv2d(6, 16, 5)\n",
        "\t\tself.fc1 = nn.Linear(16 * 5 * 5, 120)\n",
        "\t\tself.fc2 = nn.Linear(120, 84)\n",
        "\t\tself.fc3 = nn.Linear(84, 10)\n",
        "\t\n",
        "\tdef forward(self, x):\n",
        "\t\tx = self.pool(F.relu(self.conv1(x)))\n",
        "\t\tx = self.pool(F.relu(self.conv2(x)))\n",
        "\t\tx = x.view(-1, 16 * 5 * 5)\n",
        "\t\tx = F.relu(self.fc1(x))\n",
        "\t\tx = F.relu(self.fc2(x))\n",
        "\t\tx = self.fc3(x)\n",
        "\t\treturn x\n",
        "\n",
        "net = Net()"
      ],
      "metadata": {
        "id": "S-sH8GyCILAi"
      },
      "execution_count": null,
      "outputs": []
    },
    {
      "cell_type": "code",
      "source": [
        "import torch.optim as optim\n",
        "\n",
        "criterion = nn.CrossEntropyLoss()\n",
        "optimizer = optim.SGD(net.parameters(), lr=0.001, momentum=0.9)"
      ],
      "metadata": {
        "id": "cJSypatETwdE"
      },
      "execution_count": null,
      "outputs": []
    },
    {
      "cell_type": "code",
      "source": [
        "for epoch in range(2):  # 这里只迭代2个epoch，实际应该进行更多次训练 \n",
        "\n",
        "\trunning_loss = 0.0\n",
        "\tfor i, data in enumerate(trainloader, 0):\n",
        "\t\t# 得到输入\n",
        "\t\tinputs, labels = data\n",
        "\t\t\n",
        "\t\t# 梯度清零 \n",
        "\t\toptimizer.zero_grad()\n",
        "\t\t\n",
        "\t\t# forward + backward + optimize\n",
        "\t\toutputs = net(inputs)\n",
        "\t\tloss = criterion(outputs, labels)\n",
        "\t\tloss.backward()\n",
        "\t\toptimizer.step()\n",
        "\t\t\n",
        "\t\t# 定义统计信息\n",
        "\t\trunning_loss += loss.item()\n",
        "\t\tif i % 2000 == 1999:\n",
        "\t\t\tprint('[%d, %5d] loss: %.3f' %\n",
        "\t\t\t\t(epoch + 1, i + 1, running_loss / 2000))\n",
        "\t\trunning_loss = 0.0\n",
        "\n",
        "print('Finished Training')"
      ],
      "metadata": {
        "id": "MbV5avWOT2Ln"
      },
      "execution_count": null,
      "outputs": []
    },
    {
      "cell_type": "code",
      "source": [
        "dataiter = iter(testloader)\n",
        "images, labels = dataiter.next()\n",
        "\n",
        "\n",
        "imshow(torchvision.utils.make_grid(images))\n",
        "print('GroundTruth: ', ' '.join('%5s' % classes[labels[j]] for j in range(4)))"
      ],
      "metadata": {
        "id": "DE4BpVCOWAsl"
      },
      "execution_count": null,
      "outputs": []
    }
  ]
}